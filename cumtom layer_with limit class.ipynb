{
 "cells": [
  {
   "cell_type": "code",
   "execution_count": 1,
   "id": "0b118357-65e0-4e00-8f94-ae3b829a14c6",
   "metadata": {
    "scrolled": true
   },
   "outputs": [],
   "source": [
    "import tensorflow as tf\n",
    "from tensorflow.keras import layers, models\n",
    "from tensorflow.keras.datasets import mnist\n",
    "import numpy as np\n",
    "import matplotlib.pyplot as plt"
   ]
  },
  {
   "cell_type": "code",
   "execution_count": 2,
   "id": "a7571730-52b8-402d-bc17-bcd8e869b6e0",
   "metadata": {},
   "outputs": [],
   "source": [
    "# بارگذاری و پیش‌پردازش داده‌ها\n",
    "(x_train, y_train), (x_test, y_test) = mnist.load_data()"
   ]
  },
  {
   "cell_type": "code",
   "execution_count": 3,
   "id": "41e3a239-435d-4a84-8ff2-c7cf98568615",
   "metadata": {},
   "outputs": [],
   "source": [
    "# نگه داشتن کلاس‌های 0، 2 و 5\n",
    "train_mask = np.isin(y_train, [0, 2, 5])\n",
    "test_mask = np.isin(y_test, [0, 2, 5])"
   ]
  },
  {
   "cell_type": "code",
   "execution_count": 4,
   "id": "b30c4ea6-5c26-4278-9a30-b41b318d5e20",
   "metadata": {},
   "outputs": [],
   "source": [
    "x_train, y_train = x_train[train_mask], y_train[train_mask]\n",
    "x_test, y_test = x_test[test_mask], y_test[test_mask]"
   ]
  },
  {
   "cell_type": "code",
   "execution_count": 5,
   "id": "72c2f2ce-8fd7-4816-b352-32462ced965d",
   "metadata": {},
   "outputs": [],
   "source": [
    "# تغییر برچسب‌ها: تبدیل 5 به 2\n",
    "y_train = np.where(y_train == 5, 2, y_train)\n",
    "y_test = np.where(y_test == 5, 2, y_test)"
   ]
  },
  {
   "cell_type": "code",
   "execution_count": 6,
   "id": "59756984-9743-4123-bf0e-a7462935c934",
   "metadata": {},
   "outputs": [],
   "source": [
    "# نرمال کردن داده‌ها\n",
    "x_train = x_train / 255.0\n",
    "x_test = x_test / 255.0"
   ]
  },
  {
   "cell_type": "code",
   "execution_count": 7,
   "id": "22d43799-b0d5-4c13-ac30-d1bf789b8919",
   "metadata": {},
   "outputs": [],
   "source": [
    "# تغییر ابعاد داده‌ها برای ورود به مدل\n",
    "x_train = x_train.reshape(-1, 28 * 28)\n",
    "x_test = x_test.reshape(-1, 28 * 28)"
   ]
  },
  {
   "cell_type": "code",
   "execution_count": 8,
   "id": "58166203-20c1-4743-a1b4-8625e4ca8c89",
   "metadata": {},
   "outputs": [],
   "source": [
    "# تعریف لایه سفارشی\n",
    "class CustomLayer(layers.Layer):\n",
    "    def __init__(self):\n",
    "        super(CustomLayer, self).__init__()\n",
    "\n",
    "    def build(self, input_shape):\n",
    "        self.v = self.add_weight(name='v', shape=(input_shape[-1],), initializer='random_normal')\n",
    "        self.w = self.add_weight(name='w', shape=(input_shape[-1],), initializer='random_normal')\n",
    "        self.b = self.add_weight(name='b', shape=(1,), initializer='zeros')\n",
    "\n",
    "    def call(self, inputs):\n",
    "        return self.v * tf.pow(inputs, 3) - self.w * inputs + self.b"
   ]
  },
  {
   "cell_type": "code",
   "execution_count": 9,
   "id": "3bae8481-38bc-4f28-a51d-b4764c8a2e02",
   "metadata": {},
   "outputs": [],
   "source": [
    "# مدل با لایه سفارشی\n",
    "def create_model_with_custom_layer():\n",
    "    model = models.Sequential()\n",
    "    model.add(layers.Dense(128, activation='relu', input_dim=28*28))\n",
    "    model.add(layers.Dense(64, activation='relu'))\n",
    "    model.add(CustomLayer())\n",
    "    model.add(layers.Dense(3, activation='softmax'))  # سه کلاس: 0، 1، 2\n",
    "    model.compile(optimizer='adam', loss='sparse_categorical_crossentropy', metrics=['accuracy'])\n",
    "    return model"
   ]
  },
  {
   "cell_type": "code",
   "execution_count": 10,
   "id": "38681c38-9039-4eb3-bab9-25ab77d8153b",
   "metadata": {},
   "outputs": [],
   "source": [
    "# مدل با لایه‌های Dense معمولی\n",
    "def create_model_with_dense_layers():\n",
    "    model = models.Sequential()\n",
    "    model.add(layers.Dense(128, activation='relu', input_dim=28*28))\n",
    "    model.add(layers.Dense(64, activation='relu'))\n",
    "    model.add(layers.Dense(3, activation='softmax'))  # سه کلاس: 0، 1، 2\n",
    "    model.compile(optimizer='adam', loss='sparse_categorical_crossentropy', metrics=['accuracy'])\n",
    "    return model"
   ]
  },
  {
   "cell_type": "code",
   "execution_count": 11,
   "id": "3302891e-80b9-4546-86d3-aa3c366e7d90",
   "metadata": {},
   "outputs": [
    {
     "name": "stderr",
     "output_type": "stream",
     "text": [
      "C:\\ProgramData\\anaconda3\\envs\\tf\\lib\\site-packages\\keras\\src\\layers\\core\\dense.py:93: UserWarning: Do not pass an `input_shape`/`input_dim` argument to a layer. When using Sequential models, prefer using an `Input(shape)` object as the first layer in the model instead.\n",
      "  super().__init__(activity_regularizer=activity_regularizer, **kwargs)\n"
     ]
    },
    {
     "name": "stdout",
     "output_type": "stream",
     "text": [
      "WARNING:tensorflow:From C:\\ProgramData\\anaconda3\\envs\\tf\\lib\\site-packages\\keras\\src\\backend\\tensorflow\\core.py:232: The name tf.placeholder is deprecated. Please use tf.compat.v1.placeholder instead.\n",
      "\n"
     ]
    }
   ],
   "source": [
    "# ساخت مدل‌ها\n",
    "model_custom_layer = create_model_with_custom_layer()\n",
    "model_dense = create_model_with_dense_layers()"
   ]
  },
  {
   "cell_type": "code",
   "execution_count": 12,
   "id": "8f7e03ca-ef15-455d-98a4-f707f13b223e",
   "metadata": {
    "scrolled": true
   },
   "outputs": [
    {
     "name": "stdout",
     "output_type": "stream",
     "text": [
      "Epoch 1/50\n",
      "541/541 - 3s - 6ms/step - accuracy: 0.9669 - loss: 0.1054 - val_accuracy: 0.9745 - val_loss: 0.0798\n",
      "Epoch 2/50\n",
      "541/541 - 5s - 10ms/step - accuracy: 0.9918 - loss: 0.0272 - val_accuracy: 0.9952 - val_loss: 0.0153\n",
      "Epoch 3/50\n",
      "541/541 - 3s - 5ms/step - accuracy: 0.9953 - loss: 0.0133 - val_accuracy: 0.9941 - val_loss: 0.0150\n",
      "Epoch 4/50\n",
      "541/541 - 5s - 10ms/step - accuracy: 0.9969 - loss: 0.0091 - val_accuracy: 0.9917 - val_loss: 0.0355\n",
      "Epoch 5/50\n",
      "541/541 - 5s - 10ms/step - accuracy: 0.9976 - loss: 0.0079 - val_accuracy: 0.9959 - val_loss: 0.0121\n",
      "Epoch 6/50\n",
      "541/541 - 5s - 10ms/step - accuracy: 0.9980 - loss: 0.0060 - val_accuracy: 0.9935 - val_loss: 0.0281\n",
      "Epoch 7/50\n",
      "541/541 - 5s - 10ms/step - accuracy: 0.9979 - loss: 0.0072 - val_accuracy: 0.9959 - val_loss: 0.0129\n",
      "Epoch 8/50\n",
      "541/541 - 5s - 9ms/step - accuracy: 0.9987 - loss: 0.0046 - val_accuracy: 0.9945 - val_loss: 0.0188\n",
      "Epoch 9/50\n",
      "541/541 - 5s - 10ms/step - accuracy: 0.9990 - loss: 0.0039 - val_accuracy: 0.9966 - val_loss: 0.0130\n",
      "Epoch 10/50\n",
      "541/541 - 5s - 10ms/step - accuracy: 0.9987 - loss: 0.0040 - val_accuracy: 0.9952 - val_loss: 0.0235\n",
      "Epoch 11/50\n",
      "541/541 - 5s - 9ms/step - accuracy: 0.9993 - loss: 0.0020 - val_accuracy: 0.9966 - val_loss: 0.0124\n",
      "Epoch 12/50\n",
      "541/541 - 3s - 6ms/step - accuracy: 1.0000 - loss: 2.5633e-04 - val_accuracy: 0.9966 - val_loss: 0.0207\n",
      "Epoch 13/50\n",
      "541/541 - 3s - 6ms/step - accuracy: 1.0000 - loss: 2.0056e-05 - val_accuracy: 0.9969 - val_loss: 0.0217\n",
      "Epoch 14/50\n",
      "541/541 - 5s - 10ms/step - accuracy: 1.0000 - loss: 7.2333e-06 - val_accuracy: 0.9969 - val_loss: 0.0233\n",
      "Epoch 15/50\n",
      "541/541 - 5s - 9ms/step - accuracy: 1.0000 - loss: 4.0378e-06 - val_accuracy: 0.9966 - val_loss: 0.0233\n",
      "Epoch 16/50\n",
      "541/541 - 3s - 5ms/step - accuracy: 1.0000 - loss: 2.1567e-06 - val_accuracy: 0.9969 - val_loss: 0.0246\n",
      "Epoch 17/50\n",
      "541/541 - 2s - 4ms/step - accuracy: 1.0000 - loss: 1.3131e-06 - val_accuracy: 0.9969 - val_loss: 0.0261\n",
      "Epoch 18/50\n",
      "541/541 - 3s - 6ms/step - accuracy: 1.0000 - loss: 8.6291e-07 - val_accuracy: 0.9969 - val_loss: 0.0267\n",
      "Epoch 19/50\n",
      "541/541 - 5s - 10ms/step - accuracy: 1.0000 - loss: 5.6931e-07 - val_accuracy: 0.9969 - val_loss: 0.0280\n",
      "Epoch 20/50\n",
      "541/541 - 5s - 10ms/step - accuracy: 1.0000 - loss: 3.6847e-07 - val_accuracy: 0.9969 - val_loss: 0.0298\n",
      "Epoch 21/50\n",
      "541/541 - 5s - 10ms/step - accuracy: 1.0000 - loss: 2.4861e-07 - val_accuracy: 0.9969 - val_loss: 0.0304\n",
      "Epoch 22/50\n",
      "541/541 - 5s - 9ms/step - accuracy: 1.0000 - loss: 1.5725e-07 - val_accuracy: 0.9969 - val_loss: 0.0329\n",
      "Epoch 23/50\n",
      "541/541 - 5s - 10ms/step - accuracy: 1.0000 - loss: 1.0695e-07 - val_accuracy: 0.9969 - val_loss: 0.0332\n",
      "Epoch 24/50\n",
      "541/541 - 5s - 10ms/step - accuracy: 1.0000 - loss: 6.9531e-08 - val_accuracy: 0.9969 - val_loss: 0.0345\n",
      "Epoch 25/50\n",
      "541/541 - 5s - 10ms/step - accuracy: 1.0000 - loss: 4.6196e-08 - val_accuracy: 0.9969 - val_loss: 0.0369\n",
      "Epoch 26/50\n",
      "541/541 - 5s - 9ms/step - accuracy: 1.0000 - loss: 3.3567e-08 - val_accuracy: 0.9969 - val_loss: 0.0376\n",
      "Epoch 27/50\n",
      "541/541 - 2s - 4ms/step - accuracy: 1.0000 - loss: 2.3136e-08 - val_accuracy: 0.9969 - val_loss: 0.0382\n",
      "Epoch 28/50\n",
      "541/541 - 3s - 6ms/step - accuracy: 1.0000 - loss: 1.6226e-08 - val_accuracy: 0.9969 - val_loss: 0.0398\n",
      "Epoch 29/50\n",
      "541/541 - 5s - 9ms/step - accuracy: 1.0000 - loss: 1.1589e-08 - val_accuracy: 0.9969 - val_loss: 0.0407\n",
      "Epoch 30/50\n",
      "541/541 - 5s - 10ms/step - accuracy: 1.0000 - loss: 8.3437e-09 - val_accuracy: 0.9969 - val_loss: 0.0417\n",
      "Epoch 31/50\n",
      "541/541 - 5s - 10ms/step - accuracy: 1.0000 - loss: 6.0287e-09 - val_accuracy: 0.9969 - val_loss: 0.0425\n",
      "Epoch 32/50\n",
      "541/541 - 5s - 9ms/step - accuracy: 1.0000 - loss: 4.3544e-09 - val_accuracy: 0.9969 - val_loss: 0.0430\n",
      "Epoch 33/50\n",
      "541/541 - 5s - 10ms/step - accuracy: 1.0000 - loss: 3.2176e-09 - val_accuracy: 0.9969 - val_loss: 0.0450\n",
      "Epoch 34/50\n",
      "541/541 - 5s - 10ms/step - accuracy: 1.0000 - loss: 2.3770e-09 - val_accuracy: 0.9969 - val_loss: 0.0454\n",
      "Epoch 35/50\n",
      "541/541 - 5s - 9ms/step - accuracy: 1.0000 - loss: 1.6811e-09 - val_accuracy: 0.9969 - val_loss: 0.0468\n",
      "Epoch 36/50\n",
      "541/541 - 5s - 10ms/step - accuracy: 1.0000 - loss: 1.2609e-09 - val_accuracy: 0.9969 - val_loss: 0.0470\n",
      "Epoch 37/50\n",
      "541/541 - 5s - 10ms/step - accuracy: 1.0000 - loss: 9.2325e-10 - val_accuracy: 0.9969 - val_loss: 0.0480\n",
      "Epoch 38/50\n",
      "541/541 - 5s - 10ms/step - accuracy: 1.0000 - loss: 6.8210e-10 - val_accuracy: 0.9969 - val_loss: 0.0489\n",
      "Epoch 39/50\n",
      "541/541 - 3s - 5ms/step - accuracy: 1.0000 - loss: 5.2363e-10 - val_accuracy: 0.9969 - val_loss: 0.0496\n",
      "Epoch 40/50\n",
      "541/541 - 3s - 5ms/step - accuracy: 1.0000 - loss: 4.0650e-10 - val_accuracy: 0.9969 - val_loss: 0.0509\n",
      "Epoch 41/50\n",
      "541/541 - 5s - 9ms/step - accuracy: 1.0000 - loss: 2.7560e-10 - val_accuracy: 0.9969 - val_loss: 0.0509\n",
      "Epoch 42/50\n",
      "541/541 - 5s - 10ms/step - accuracy: 1.0000 - loss: 1.8603e-10 - val_accuracy: 0.9966 - val_loss: 0.0510\n",
      "Epoch 43/50\n",
      "541/541 - 5s - 10ms/step - accuracy: 1.0000 - loss: 1.5158e-10 - val_accuracy: 0.9966 - val_loss: 0.0516\n",
      "Epoch 44/50\n",
      "541/541 - 3s - 5ms/step - accuracy: 1.0000 - loss: 9.6459e-11 - val_accuracy: 0.9966 - val_loss: 0.0522\n",
      "Epoch 45/50\n",
      "541/541 - 5s - 9ms/step - accuracy: 1.0000 - loss: 8.2679e-11 - val_accuracy: 0.9966 - val_loss: 0.0524\n",
      "Epoch 46/50\n",
      "541/541 - 7s - 13ms/step - accuracy: 1.0000 - loss: 5.5119e-11 - val_accuracy: 0.9966 - val_loss: 0.0525\n",
      "Epoch 47/50\n",
      "541/541 - 3s - 6ms/step - accuracy: 1.0000 - loss: 5.5119e-11 - val_accuracy: 0.9966 - val_loss: 0.0531\n",
      "Epoch 48/50\n",
      "541/541 - 6s - 11ms/step - accuracy: 1.0000 - loss: 3.4450e-11 - val_accuracy: 0.9966 - val_loss: 0.0529\n",
      "Epoch 49/50\n",
      "541/541 - 3s - 6ms/step - accuracy: 1.0000 - loss: 2.7560e-11 - val_accuracy: 0.9966 - val_loss: 0.0538\n",
      "Epoch 50/50\n",
      "541/541 - 7s - 12ms/step - accuracy: 1.0000 - loss: 2.0670e-11 - val_accuracy: 0.9966 - val_loss: 0.0537\n",
      "Epoch 1/50\n",
      "541/541 - 5s - 10ms/step - accuracy: 0.9803 - loss: 0.0589 - val_accuracy: 0.9917 - val_loss: 0.0213\n",
      "Epoch 2/50\n",
      "541/541 - 5s - 8ms/step - accuracy: 0.9947 - loss: 0.0155 - val_accuracy: 0.9955 - val_loss: 0.0150\n",
      "Epoch 3/50\n",
      "541/541 - 3s - 6ms/step - accuracy: 0.9975 - loss: 0.0075 - val_accuracy: 0.9966 - val_loss: 0.0130\n",
      "Epoch 4/50\n",
      "541/541 - 6s - 12ms/step - accuracy: 0.9970 - loss: 0.0080 - val_accuracy: 0.9955 - val_loss: 0.0111\n",
      "Epoch 5/50\n",
      "541/541 - 4s - 7ms/step - accuracy: 0.9988 - loss: 0.0033 - val_accuracy: 0.9966 - val_loss: 0.0098\n",
      "Epoch 6/50\n",
      "541/541 - 6s - 12ms/step - accuracy: 0.9994 - loss: 0.0020 - val_accuracy: 0.9962 - val_loss: 0.0142\n",
      "Epoch 7/50\n",
      "541/541 - 3s - 6ms/step - accuracy: 0.9997 - loss: 0.0011 - val_accuracy: 0.9976 - val_loss: 0.0087\n",
      "Epoch 8/50\n",
      "541/541 - 4s - 7ms/step - accuracy: 0.9992 - loss: 0.0032 - val_accuracy: 0.9969 - val_loss: 0.0094\n",
      "Epoch 9/50\n",
      "541/541 - 3s - 5ms/step - accuracy: 0.9986 - loss: 0.0039 - val_accuracy: 0.9945 - val_loss: 0.0192\n",
      "Epoch 10/50\n",
      "541/541 - 6s - 12ms/step - accuracy: 0.9987 - loss: 0.0037 - val_accuracy: 0.9969 - val_loss: 0.0087\n",
      "Epoch 11/50\n",
      "541/541 - 5s - 9ms/step - accuracy: 1.0000 - loss: 1.7854e-04 - val_accuracy: 0.9969 - val_loss: 0.0112\n",
      "Epoch 12/50\n",
      "541/541 - 5s - 9ms/step - accuracy: 1.0000 - loss: 7.2213e-05 - val_accuracy: 0.9969 - val_loss: 0.0107\n",
      "Epoch 13/50\n",
      "541/541 - 5s - 9ms/step - accuracy: 0.9990 - loss: 0.0026 - val_accuracy: 0.9955 - val_loss: 0.0160\n",
      "Epoch 14/50\n",
      "541/541 - 4s - 7ms/step - accuracy: 0.9999 - loss: 4.5660e-04 - val_accuracy: 0.9959 - val_loss: 0.0181\n",
      "Epoch 15/50\n",
      "541/541 - 5s - 9ms/step - accuracy: 1.0000 - loss: 1.8645e-05 - val_accuracy: 0.9959 - val_loss: 0.0182\n",
      "Epoch 16/50\n",
      "541/541 - 4s - 8ms/step - accuracy: 1.0000 - loss: 7.8949e-06 - val_accuracy: 0.9959 - val_loss: 0.0178\n",
      "Epoch 17/50\n",
      "541/541 - 3s - 5ms/step - accuracy: 1.0000 - loss: 5.0921e-06 - val_accuracy: 0.9962 - val_loss: 0.0171\n",
      "Epoch 18/50\n",
      "541/541 - 2s - 4ms/step - accuracy: 1.0000 - loss: 3.5795e-06 - val_accuracy: 0.9962 - val_loss: 0.0173\n",
      "Epoch 19/50\n",
      "541/541 - 3s - 6ms/step - accuracy: 1.0000 - loss: 2.5404e-06 - val_accuracy: 0.9962 - val_loss: 0.0176\n",
      "Epoch 20/50\n",
      "541/541 - 4s - 7ms/step - accuracy: 1.0000 - loss: 1.8398e-06 - val_accuracy: 0.9962 - val_loss: 0.0178\n",
      "Epoch 21/50\n",
      "541/541 - 4s - 8ms/step - accuracy: 1.0000 - loss: 1.3770e-06 - val_accuracy: 0.9966 - val_loss: 0.0178\n",
      "Epoch 22/50\n",
      "541/541 - 4s - 7ms/step - accuracy: 1.0000 - loss: 9.5432e-07 - val_accuracy: 0.9966 - val_loss: 0.0182\n",
      "Epoch 23/50\n",
      "541/541 - 4s - 7ms/step - accuracy: 1.0000 - loss: 7.1517e-07 - val_accuracy: 0.9966 - val_loss: 0.0184\n",
      "Epoch 24/50\n",
      "541/541 - 4s - 7ms/step - accuracy: 1.0000 - loss: 5.2027e-07 - val_accuracy: 0.9966 - val_loss: 0.0181\n",
      "Epoch 25/50\n",
      "541/541 - 4s - 8ms/step - accuracy: 1.0000 - loss: 3.8354e-07 - val_accuracy: 0.9966 - val_loss: 0.0188\n",
      "Epoch 26/50\n",
      "541/541 - 4s - 7ms/step - accuracy: 1.0000 - loss: 2.9745e-07 - val_accuracy: 0.9966 - val_loss: 0.0186\n",
      "Epoch 27/50\n",
      "541/541 - 5s - 10ms/step - accuracy: 1.0000 - loss: 2.1486e-07 - val_accuracy: 0.9966 - val_loss: 0.0187\n",
      "Epoch 28/50\n",
      "541/541 - 4s - 8ms/step - accuracy: 1.0000 - loss: 1.6508e-07 - val_accuracy: 0.9966 - val_loss: 0.0190\n",
      "Epoch 29/50\n",
      "541/541 - 3s - 6ms/step - accuracy: 1.0000 - loss: 1.2334e-07 - val_accuracy: 0.9969 - val_loss: 0.0190\n",
      "Epoch 30/50\n",
      "541/541 - 6s - 12ms/step - accuracy: 1.0000 - loss: 9.3461e-08 - val_accuracy: 0.9969 - val_loss: 0.0193\n",
      "Epoch 31/50\n",
      "541/541 - 3s - 6ms/step - accuracy: 1.0000 - loss: 7.0504e-08 - val_accuracy: 0.9969 - val_loss: 0.0198\n",
      "Epoch 32/50\n",
      "541/541 - 4s - 8ms/step - accuracy: 1.0000 - loss: 5.2494e-08 - val_accuracy: 0.9969 - val_loss: 0.0200\n",
      "Epoch 33/50\n",
      "541/541 - 5s - 9ms/step - accuracy: 1.0000 - loss: 3.9920e-08 - val_accuracy: 0.9969 - val_loss: 0.0199\n",
      "Epoch 34/50\n",
      "541/541 - 4s - 7ms/step - accuracy: 1.0000 - loss: 2.9909e-08 - val_accuracy: 0.9969 - val_loss: 0.0202\n",
      "Epoch 35/50\n",
      "541/541 - 4s - 8ms/step - accuracy: 1.0000 - loss: 2.3322e-08 - val_accuracy: 0.9966 - val_loss: 0.0202\n",
      "Epoch 36/50\n",
      "541/541 - 4s - 8ms/step - accuracy: 1.0000 - loss: 1.7266e-08 - val_accuracy: 0.9966 - val_loss: 0.0205\n",
      "Epoch 37/50\n",
      "541/541 - 4s - 7ms/step - accuracy: 1.0000 - loss: 1.3449e-08 - val_accuracy: 0.9966 - val_loss: 0.0209\n",
      "Epoch 38/50\n",
      "541/541 - 4s - 7ms/step - accuracy: 1.0000 - loss: 1.0183e-08 - val_accuracy: 0.9966 - val_loss: 0.0211\n",
      "Epoch 39/50\n",
      "541/541 - 5s - 8ms/step - accuracy: 1.0000 - loss: 7.9510e-09 - val_accuracy: 0.9966 - val_loss: 0.0213\n",
      "Epoch 40/50\n",
      "541/541 - 3s - 6ms/step - accuracy: 1.0000 - loss: 5.9391e-09 - val_accuracy: 0.9966 - val_loss: 0.0215\n",
      "Epoch 41/50\n",
      "541/541 - 6s - 12ms/step - accuracy: 1.0000 - loss: 4.7471e-09 - val_accuracy: 0.9966 - val_loss: 0.0220\n",
      "Epoch 42/50\n",
      "541/541 - 4s - 7ms/step - accuracy: 1.0000 - loss: 3.5965e-09 - val_accuracy: 0.9966 - val_loss: 0.0221\n",
      "Epoch 43/50\n",
      "541/541 - 4s - 8ms/step - accuracy: 1.0000 - loss: 2.8180e-09 - val_accuracy: 0.9966 - val_loss: 0.0224\n",
      "Epoch 44/50\n",
      "541/541 - 4s - 7ms/step - accuracy: 1.0000 - loss: 2.2323e-09 - val_accuracy: 0.9966 - val_loss: 0.0228\n",
      "Epoch 45/50\n",
      "541/541 - 4s - 8ms/step - accuracy: 1.0000 - loss: 1.8052e-09 - val_accuracy: 0.9966 - val_loss: 0.0230\n",
      "Epoch 46/50\n",
      "541/541 - 4s - 8ms/step - accuracy: 1.0000 - loss: 1.3987e-09 - val_accuracy: 0.9966 - val_loss: 0.0233\n",
      "Epoch 47/50\n",
      "541/541 - 5s - 9ms/step - accuracy: 1.0000 - loss: 1.0886e-09 - val_accuracy: 0.9969 - val_loss: 0.0235\n",
      "Epoch 48/50\n",
      "541/541 - 4s - 8ms/step - accuracy: 1.0000 - loss: 8.5435e-10 - val_accuracy: 0.9969 - val_loss: 0.0235\n",
      "Epoch 49/50\n",
      "541/541 - 3s - 6ms/step - accuracy: 1.0000 - loss: 6.4765e-10 - val_accuracy: 0.9969 - val_loss: 0.0238\n",
      "Epoch 50/50\n",
      "541/541 - 4s - 8ms/step - accuracy: 1.0000 - loss: 5.4430e-10 - val_accuracy: 0.9969 - val_loss: 0.0241\n"
     ]
    }
   ],
   "source": [
    "# آموزش مدل‌ها\n",
    "history_custom_layer = model_custom_layer.fit(x_train, y_train, epochs=50, validation_data=(x_test, y_test), verbose=2)\n",
    "history_dense = model_dense.fit(x_train, y_train, epochs=50, validation_data=(x_test, y_test), verbose=2)"
   ]
  },
  {
   "cell_type": "code",
   "execution_count": 13,
   "id": "0ce8ab63-6796-4e59-a27c-236c590d23df",
   "metadata": {},
   "outputs": [],
   "source": [
    "# ارزیابی مدل‌ها\n",
    "loss_custom_layer, accuracy_custom_layer = model_custom_layer.evaluate(x_test, y_test, verbose=0)\n",
    "loss_dense, accuracy_dense = model_dense.evaluate(x_test, y_test, verbose=0)"
   ]
  },
  {
   "cell_type": "code",
   "execution_count": 14,
   "id": "04f45a4a-5382-43fc-9cc6-ebcfa5fe12bf",
   "metadata": {},
   "outputs": [
    {
     "name": "stdout",
     "output_type": "stream",
     "text": [
      "Model with Custom Layer - Loss: 0.05368383973836899, Accuracy: 0.9965564608573914\n",
      "Model with Dense Layers - Loss: 0.02411952242255211, Accuracy: 0.9969007968902588\n"
     ]
    }
   ],
   "source": [
    "# نمایش نتایج\n",
    "print(f\"Model with Custom Layer - Loss: {loss_custom_layer}, Accuracy: {accuracy_custom_layer}\")\n",
    "print(f\"Model with Dense Layers - Loss: {loss_dense}, Accuracy: {accuracy_dense}\")"
   ]
  },
  {
   "cell_type": "code",
   "execution_count": 15,
   "id": "033a24fd-699c-4ef8-8b5b-7bb8e99ddeff",
   "metadata": {},
   "outputs": [
    {
     "data": {
      "text/plain": [
       "<Figure size 1200x500 with 0 Axes>"
      ]
     },
     "execution_count": 15,
     "metadata": {},
     "output_type": "execute_result"
    },
    {
     "data": {
      "text/plain": [
       "<Figure size 1200x500 with 0 Axes>"
      ]
     },
     "metadata": {},
     "output_type": "display_data"
    }
   ],
   "source": [
    "# رسم نمودار دقت و loss\n",
    "plt.figure(figsize=(12, 5))"
   ]
  },
  {
   "cell_type": "code",
   "execution_count": 16,
   "id": "ce08dc22-927f-4ed5-a601-ea7faddaa00f",
   "metadata": {},
   "outputs": [
    {
     "data": {
      "text/plain": [
       "<matplotlib.legend.Legend at 0x1a90679aec0>"
      ]
     },
     "execution_count": 16,
     "metadata": {},
     "output_type": "execute_result"
    },
    {
     "data": {
      "image/png": "[encoded data removed]",
      "text/plain": [
       "<Figure size 640x480 with 1 Axes>"
      ]
     },
     "metadata": {},
     "output_type": "display_data"
    }
   ],
   "source": [
    "# دقت\n",
    "plt.subplot(1, 2, 1)\n",
    "plt.plot(history_custom_layer.history['accuracy'], label='Custom Layer Train Accuracy')\n",
    "plt.plot(history_custom_layer.history['val_accuracy'], label='Custom Layer Validation Accuracy')\n",
    "plt.plot(history_dense.history['accuracy'], label='Dense Layer Train Accuracy')\n",
    "plt.plot(history_dense.history['val_accuracy'], label='Dense Layer Validation Accuracy')\n",
    "plt.title('Accuracy')\n",
    "plt.xlabel('Epochs')\n",
    "plt.ylabel('Accuracy')\n",
    "plt.legend()"
   ]
  },
  {
   "cell_type": "code",
   "execution_count": 17,
   "id": "79bca7dd-6f7c-4354-8b1a-c12bd8ea8077",
   "metadata": {},
   "outputs": [
    {
     "data": {
      "image/png": "[encoded data removed]",
      "text/plain": [
       "<Figure size 640x480 with 1 Axes>"
      ]
     },
     "metadata": {},
     "output_type": "display_data"
    }
   ],
   "source": [
    "# Loss\n",
    "plt.subplot(1, 2, 2)\n",
    "plt.plot(history_custom_layer.history['loss'], label='Custom Layer Train Loss')\n",
    "plt.plot(history_custom_layer.history['val_loss'], label='Custom Layer Validation Loss')\n",
    "plt.plot(history_dense.history['loss'], label='Dense Layer Train Loss')\n",
    "plt.plot(history_dense.history['val_loss'], label='Dense Layer Validation Loss')\n",
    "plt.title('Loss')\n",
    "plt.xlabel('Epochs')\n",
    "plt.ylabel('Loss')\n",
    "plt.legend()\n",
    "\n",
    "plt.show()"
   ]
  }
 ],
 "metadata": {
  "kernelspec": {
   "display_name": "Python [conda env:tf] *",
   "language": "python",
   "name": "conda-env-tf-py"
  },
  "language_info": {
   "codemirror_mode": {
    "name": "ipython",
    "version": 3
   },
   "file_extension": ".py",
   "mimetype": "text/x-python",
   "name": "python",
   "nbconvert_exporter": "python",
   "pygments_lexer": "ipython3",
   "version": "3.10.14"
  }
 },
 "nbformat": 4,
 "nbformat_minor": 5
}
